{
 "cells": [
  {
   "cell_type": "code",
   "execution_count": null,
   "metadata": {},
   "outputs": [],
   "source": [
    "\n",
    "        "
   ]
  },
  {
   "cell_type": "code",
   "execution_count": 11,
   "metadata": {},
   "outputs": [
    {
     "name": "stdout",
     "output_type": "stream",
     "text": [
      "3\n",
      "4\n",
      "0000\n",
      "a\n",
      "8\n",
      "00001111\n",
      "ap\n",
      "4\n",
      "1001\n",
      "j\n"
     ]
    }
   ],
   "source": [
    "dictionary={\n",
    "    '0000':'a',\n",
    "    '0001':'b',\n",
    "    '0010':'c',\n",
    "    '0011':'d',\n",
    "    '0100':'e',\n",
    "    '0101':'f',\n",
    "    '0110':'g',\n",
    "    '0111':'h',\n",
    "    '1000':'i',\n",
    "    '1001':'j',\n",
    "    '1010':'k',\n",
    "    '1100':'l',\n",
    "    '1101':'m',\n",
    "    '1110':'n',\n",
    "    '1111':'p',\n",
    "}\n",
    "\n",
    "for _ in range(int(input())):\n",
    "    len=int(input())\n",
    "    a=input()\n",
    "    for i  in range(0,len,4):\n",
    "        print(dictionary[str(a[i:i+4])],end='')\n",
    "    print()\n",
    "        \n",
    "    "
   ]
  },
  {
   "cell_type": "code",
   "execution_count": null,
   "metadata": {},
   "outputs": [],
   "source": []
  }
 ],
 "metadata": {
  "kernelspec": {
   "display_name": "Python 3",
   "language": "python",
   "name": "python3"
  },
  "language_info": {
   "codemirror_mode": {
    "name": "ipython",
    "version": 3
   },
   "file_extension": ".py",
   "mimetype": "text/x-python",
   "name": "python",
   "nbconvert_exporter": "python",
   "pygments_lexer": "ipython3",
   "version": "3.7.6"
  }
 },
 "nbformat": 4,
 "nbformat_minor": 4
}
