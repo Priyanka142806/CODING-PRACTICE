{
 "cells": [
  {
   "cell_type": "code",
   "execution_count": 8,
   "metadata": {},
   "outputs": [
    {
     "name": "stdout",
     "output_type": "stream",
     "text": [
      "4\n",
      "4\n",
      "3 2 7 6\n",
      "2\n",
      "3\n",
      "3 2 6\n",
      "1\n",
      "1\n",
      "7\n",
      "-1\n",
      "7\n",
      "4 9 2 1 18 3 0\n",
      "0\n"
     ]
    }
   ],
   "source": [
    "t=int(input())\n",
    "while(t!=0):\n",
    "    len_array=int(input())\n",
    "    array=input()\n",
    "    arr=list(map(int,array.split(' ')))\n",
    "    x=[]\n",
    "    y=[]\n",
    "    one_to_zero=0\n",
    "    zero_to_one=0\n",
    "    for i in range(len_array):\n",
    "        if((i%2)!=(arr[i]%2)):\n",
    "            if((i%2)==1):\n",
    "                one_to_zero=one_to_zero + 1\n",
    "            else:\n",
    "                zero_to_one=zero_to_one + 1\n",
    "    if one_to_zero!=zero_to_one:\n",
    "        print(-1)\n",
    "    else:\n",
    "        print(one_to_zero)\n",
    "            \n",
    "    t=t-1"
   ]
  },
  {
   "cell_type": "code",
   "execution_count": null,
   "metadata": {},
   "outputs": [],
   "source": []
  }
 ],
 "metadata": {
  "kernelspec": {
   "display_name": "Python 3",
   "language": "python",
   "name": "python3"
  },
  "language_info": {
   "codemirror_mode": {
    "name": "ipython",
    "version": 3
   },
   "file_extension": ".py",
   "mimetype": "text/x-python",
   "name": "python",
   "nbconvert_exporter": "python",
   "pygments_lexer": "ipython3",
   "version": "3.7.6"
  }
 },
 "nbformat": 4,
 "nbformat_minor": 4
}
