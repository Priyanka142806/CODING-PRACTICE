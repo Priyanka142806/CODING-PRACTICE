{
 "cells": [
  {
   "cell_type": "code",
   "execution_count": 2,
   "metadata": {},
   "outputs": [
    {
     "name": "stdout",
     "output_type": "stream",
     "text": [
      "2\n",
      "5009\n",
      "2\n",
      "9.0\n",
      "5000.0\n",
      "9876\n",
      "4\n",
      "6.0\n",
      "70.0\n",
      "800.0\n",
      "9000.0\n"
     ]
    }
   ],
   "source": [
    "import math\n",
    "t=int(input())\n",
    "count=0\n",
    "p=0\n",
    "while(t!=0):\n",
    "    i=int(input())\n",
    "    temp=i\n",
    "    t-=1\n",
    "    while(temp!=0):\n",
    "        r=temp%10\n",
    "        temp//=10\n",
    "        if(r!=0):\n",
    "            count+=1\n",
    "    print(count)\n",
    "    \n",
    "    while(i!=0):\n",
    "        r=i%10\n",
    "        i//=10\n",
    "        if(r!=0):\n",
    "            x=(r*(math.pow(10,p)))\n",
    "            print(x)\n",
    "        p+=1\n",
    "    \n",
    "    p=0\n",
    "    count=0\n",
    "        "
   ]
  },
  {
   "cell_type": "code",
   "execution_count": null,
   "metadata": {},
   "outputs": [],
   "source": []
  }
 ],
 "metadata": {
  "kernelspec": {
   "display_name": "Python 3",
   "language": "python",
   "name": "python3"
  },
  "language_info": {
   "codemirror_mode": {
    "name": "ipython",
    "version": 3
   },
   "file_extension": ".py",
   "mimetype": "text/x-python",
   "name": "python",
   "nbconvert_exporter": "python",
   "pygments_lexer": "ipython3",
   "version": "3.7.6"
  }
 },
 "nbformat": 4,
 "nbformat_minor": 4
}
